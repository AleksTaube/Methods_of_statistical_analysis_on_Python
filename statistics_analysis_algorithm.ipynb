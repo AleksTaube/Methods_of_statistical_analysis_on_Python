{
 "cells": [
  {
   "cell_type": "markdown",
   "id": "26612e87",
   "metadata": {},
   "source": [
    "# Алгоритм статистического анализа"
   ]
  },
  {
   "cell_type": "markdown",
   "id": "c0d7b20d",
   "metadata": {},
   "source": [
    "<img src=\"img/scheme.png\" width=1100>"
   ]
  },
  {
   "cell_type": "markdown",
   "id": "36f4a09e",
   "metadata": {},
   "source": [
    "## Проверка нормальности распределения"
   ]
  },
  {
   "cell_type": "markdown",
   "id": "8da3582b",
   "metadata": {},
   "source": [
    "### Графическое распределение (distplot)"
   ]
  },
  {
   "cell_type": "code",
   "execution_count": 2,
   "id": "93d2065d",
   "metadata": {},
   "outputs": [
    {
     "data": {
      "image/png": "[encoded data removed]",
      "text/plain": [
       "<Figure size 360x360 with 1 Axes>"
      ]
     },
     "metadata": {
      "needs_background": "light"
     },
     "output_type": "display_data"
    }
   ],
   "source": [
    "import seaborn as sns\n",
    "import numpy as np\n",
    "\n",
    "sample = np.array([50, 55, 56, 57, 58, 59, 60, 60, 60, 61, 62, 63, 64, 65, 66, 72])\n",
    "\n",
    "ax = sns.displot(sample, kde = False)"
   ]
  },
  {
   "cell_type": "markdown",
   "id": "deab481a",
   "metadata": {},
   "source": [
    "### Критерий Колмогорова-Смирнова (точнее при количестве исследуемых n>50)\n"
   ]
  },
  {
   "cell_type": "code",
   "execution_count": null,
   "id": "22bfad51",
   "metadata": {},
   "outputs": [],
   "source": []
  },
  {
   "cell_type": "markdown",
   "id": "f50f8bbf",
   "metadata": {},
   "source": [
    "### Критерий Шапиро-Уилка (точнее при количестве исследуемых n<50)\n",
    "H0 - данные распределены нормально"
   ]
  },
  {
   "cell_type": "code",
   "execution_count": 79,
   "id": "693974b3",
   "metadata": {},
   "outputs": [
    {
     "data": {
      "text/plain": [
       "ShapiroResult(statistic=0.9803240299224854, pvalue=0.9661158323287964)"
      ]
     },
     "execution_count": 79,
     "metadata": {},
     "output_type": "execute_result"
    }
   ],
   "source": [
    "import pandas as pd\n",
    "\n",
    "data = pd.DataFrame({'a': [50, 55, 56, 57, 58, 59, 60, 60, 60, 61, 62, 63, 64, 65, 66, 72]})\n",
    "\n",
    "stats.shapiro(data.a)\n",
    "\n",
    "# в случае большого количества данных используем выборку - sample:\n",
    "# stats.shapiro(df.column.sample(1000, random_state=17))\n",
    "# т.к. тест Шапиро-Уилка чувствителен к большим совокупностям.\n",
    "# Cчитаем, что если ген. совокупность распределена нормально, то и выборки тоже будут нормальными.\n",
    "# Но тогда прогоняем тест несколько раз, чтобы убедиться в стабильность результатов.\n",
    "# random_state=17 - для стабилизации расчета p-value при сэмплировании\n",
    "\n",
    "#p >= 0.05 - нет оснований отклонить H0, данные распределены нормально"
   ]
  },
  {
   "cell_type": "code",
   "execution_count": 81,
   "id": "99337bbf",
   "metadata": {},
   "outputs": [
    {
     "name": "stdout",
     "output_type": "stream",
     "text": [
      "Shapiro-Wilk test, W: 0.9803240299224854 p-value: 0.9661158323287964\n",
      "Принять гипотезу о нормальности\n"
     ]
    }
   ],
   "source": [
    "import numpy as np\n",
    "from scipy import stats\n",
    "\n",
    "sample = np.array([50, 55, 56, 57, 58, 59, 60, 60, 60, 61, 62, 63, 64, 65, 66, 72])\n",
    "\n",
    "W, p = stats.shapiro(sample)\n",
    "print(\"Shapiro-Wilk test, W:\", W, \"p-value:\", p)\n",
    "\n",
    "alpha = 0.05\n",
    "if p > alpha:\n",
    "    print('Принять гипотезу о нормальности')\n",
    "else:\n",
    "    print('Отклонить гипотезу о нормальности')"
   ]
  },
  {
   "cell_type": "markdown",
   "id": "429149a2",
   "metadata": {},
   "source": [
    "### qq-plot"
   ]
  },
  {
   "cell_type": "code",
   "execution_count": 77,
   "id": "e1c91d8e",
   "metadata": {},
   "outputs": [
    {
     "data": {
      "image/png": "[encoded data removed]",
      "text/plain": [
       "<Figure size 432x288 with 1 Axes>"
      ]
     },
     "metadata": {
      "needs_background": "light"
     },
     "output_type": "display_data"
    }
   ],
   "source": [
    "import numpy as np \n",
    "import pylab \n",
    "import scipy.stats as stats\n",
    "\n",
    "sample = np.array([50, 55, 56, 57, 58, 59, 60, 60, 60, 61, 62, 63, 64, 65, 66, 72])\n",
    "\n",
    "stats.probplot(sample, dist=\"norm\", plot=pylab)\n",
    "pylab.show()"
   ]
  },
  {
   "cell_type": "code",
   "execution_count": null,
   "id": "833945eb",
   "metadata": {},
   "outputs": [],
   "source": []
  },
  {
   "cell_type": "markdown",
   "id": "3f818f1f",
   "metadata": {},
   "source": [
    "## Описательная статистика"
   ]
  },
  {
   "cell_type": "markdown",
   "id": "169b0f44",
   "metadata": {},
   "source": [
    "### Мода, медиана и среднее"
   ]
  },
  {
   "cell_type": "code",
   "execution_count": 6,
   "id": "eb7d580e",
   "metadata": {},
   "outputs": [
    {
     "name": "stdout",
     "output_type": "stream",
     "text": [
      "mode: ModeResult(mode=array([60]), count=array([3]))\n",
      "median: 60.0\n",
      "mean: 60.5\n"
     ]
    }
   ],
   "source": [
    "import numpy as np\n",
    "from scipy import stats\n",
    "\n",
    "sample = np.array([50, 55, 56, 57, 58, 59, 60, 60, 60, 61, 62, 63, 64, 65, 66, 72])\n",
    "\n",
    "print('mode:', stats.mode(sample))\n",
    "print('median:', np.median(sample))\n",
    "print('mean:', np.mean(sample))"
   ]
  },
  {
   "cell_type": "code",
   "execution_count": 7,
   "id": "78e32c63",
   "metadata": {},
   "outputs": [
    {
     "name": "stdout",
     "output_type": "stream",
     "text": [
      "mode: 0    60\n",
      "dtype: int64\n",
      "median: 60.0\n",
      "mean: 60.5\n"
     ]
    }
   ],
   "source": [
    "import pandas as pd\n",
    "\n",
    "sample = pd.Series([50, 55, 56, 57, 58, 59, 60, 60, 60, 61, 62, 63, 64, 65, 66, 72])\n",
    "\n",
    "print('mode:', sample.mode())\n",
    "print('median:', sample.median())\n",
    "print('mean:', sample.mean())"
   ]
  },
  {
   "cell_type": "markdown",
   "id": "2b505d2d",
   "metadata": {},
   "source": [
    "### Размах, дисперсия и стандартное отклонение"
   ]
  },
  {
   "cell_type": "code",
   "execution_count": 8,
   "id": "98adcdec",
   "metadata": {},
   "outputs": [
    {
     "name": "stdout",
     "output_type": "stream",
     "text": [
      "range = 22\n",
      "range(other count way) = [50. 72.]\n",
      "D = 24.125\n",
      "sd = 5.072803301265814\n"
     ]
    }
   ],
   "source": [
    "import numpy as np\n",
    "import pandas as pd\n",
    "\n",
    "sample = np.array([50, 55, 56, 57, 58, 59, 60, 60, 60, 61, 62, 63, 64, 65, 66, 72])\n",
    "\n",
    "# размах -  разность между max и min значением из распределения\n",
    "range = np.max(sample)- np.min(sample)\n",
    "print(f'range = {range}')\n",
    "\n",
    "range_2 = np.percentile(sample, [0, 100])\n",
    "print(f'range(other count way) = {range_2}')\n",
    "\n",
    "# дисперсия - средний квадрат отклонений индивидуальных значений признака от их средней величины\n",
    "D = np.var(sample)\n",
    "print(f'D = {D}')\n",
    "# или df.A.var() , если через pandas\n",
    "\n",
    "# cреднеквадратическое (стандартное) отклонение - корень из дисперсии\n",
    "sd = np.std(sample, ddof=1)\n",
    "print(f'sd = {sd}')\n",
    "# или df.A.std() , если через pandas "
   ]
  },
  {
   "cell_type": "markdown",
   "id": "a5dd6a69",
   "metadata": {},
   "source": [
    "### boxplot"
   ]
  },
  {
   "cell_type": "code",
   "execution_count": 9,
   "id": "f49a9129",
   "metadata": {},
   "outputs": [
    {
     "name": "stderr",
     "output_type": "stream",
     "text": [
      "/home/at/anaconda3/lib/python3.9/site-packages/seaborn/_decorators.py:36: FutureWarning: Pass the following variable as a keyword arg: x. From version 0.12, the only valid positional argument will be `data`, and passing other arguments without an explicit keyword will result in an error or misinterpretation.\n",
      "  warnings.warn(\n",
      "/home/at/anaconda3/lib/python3.9/site-packages/seaborn/_decorators.py:36: FutureWarning: Pass the following variable as a keyword arg: x. From version 0.12, the only valid positional argument will be `data`, and passing other arguments without an explicit keyword will result in an error or misinterpretation.\n",
      "  warnings.warn(\n"
     ]
    },
    {
     "data": {
      "image/png": "[encoded data removed]",
      "text/plain": [
       "<Figure size 432x288 with 1 Axes>"
      ]
     },
     "metadata": {
      "needs_background": "light"
     },
     "output_type": "display_data"
    }
   ],
   "source": [
    "import seaborn as sns\n",
    "\n",
    "sample = np.array([50, 55, 56, 57, 58, 59, 60, 60, 60, 61, 62, 63, 64, 65, 66, 72])\n",
    "\n",
    "ax = sns.boxplot(sample)\n",
    "ax = sns.swarmplot(sample, color = 'Red') # дополнительное наложение точек"
   ]
  },
  {
   "cell_type": "code",
   "execution_count": 10,
   "id": "4036a618",
   "metadata": {},
   "outputs": [
    {
     "data": {
      "image/png": "[encoded data removed]",
      "text/plain": [
       "<Figure size 432x288 with 1 Axes>"
      ]
     },
     "metadata": {
      "needs_background": "light"
     },
     "output_type": "display_data"
    }
   ],
   "source": [
    "import matplotlib.pyplot as plt\n",
    "\n",
    "sample = np.array([50, 55, 56, 57, 58, 59, 60, 60, 60, 61, 62, 63, 64, 65, 66, 72])\n",
    "\n",
    "plt.boxplot(sample, showfliers=1)\n",
    "plt.show()"
   ]
  },
  {
   "cell_type": "markdown",
   "id": "58553957",
   "metadata": {},
   "source": [
    "### Доверительный интервал\n",
    "среднее значение генеральной совокупности принадлежит рассчитанному доверительному интервалу с заданной вероятностью (например, 95%)\n",
    "\n",
    "95% - μ±1.96se; 99% - μ±2.58se"
   ]
  },
  {
   "cell_type": "code",
   "execution_count": 11,
   "id": "907c2f8f",
   "metadata": {},
   "outputs": [
    {
     "name": "stdout",
     "output_type": "stream",
     "text": [
      "(58.01437205721578, 62.98562794278422)\n"
     ]
    }
   ],
   "source": [
    "# если считать по формулам и известны меры центральной тенденции и меры изменчивости\n",
    "\n",
    "from numpy import sqrt\n",
    "from scipy import stats\n",
    "\n",
    "p = 0.95  # % интервала\n",
    "mean = 60.5\n",
    "std = 5.072803301265814\n",
    "n = 16\n",
    "\n",
    "se = std/sqrt(n)\n",
    "alpha = (1-p)/2\n",
    "sigma = stats.norm().isf(alpha)\n",
    "сonf_interval = mean - sigma*se, mean + sigma*se\n",
    "\n",
    "print(сonf_interval)"
   ]
  },
  {
   "cell_type": "code",
   "execution_count": 12,
   "id": "5cafad85",
   "metadata": {},
   "outputs": [
    {
     "name": "stdout",
     "output_type": "stream",
     "text": [
      "(57.79689392720129, 63.20310607279871)\n",
      "(57.79689392720129, 63.20310607279871)\n"
     ]
    }
   ],
   "source": [
    "# с помощью методов библиотек\n",
    "\n",
    "import numpy as np, scipy.stats as st\n",
    "import statsmodels.stats.api as sms\n",
    "\n",
    "sample = np.array([50, 55, 56, 57, 58, 59, 60, 60, 60, 61, 62, 63, 64, 65, 66, 72])\n",
    "\n",
    "# первый способ\n",
    "print(st.t.interval(0.95, len(sample)-1, loc=np.mean(sample), scale=st.sem(sample)))\n",
    "# второй способ\n",
    "print(sms.DescrStatsW(sample).tconfint_mean())"
   ]
  },
  {
   "cell_type": "code",
   "execution_count": null,
   "id": "e3845faf",
   "metadata": {},
   "outputs": [],
   "source": []
  },
  {
   "cell_type": "markdown",
   "id": "731c807b",
   "metadata": {},
   "source": [
    "## Стандартизация (Z-преобразование)\n",
    "преобразование, которое позволяет любую шкалу перевести в стандартную Z-шкалу (Z-scores), где среднее значение будет равно нулю, а стандартное отклонение – 1. Форма распределения при этом не изменится."
   ]
  },
  {
   "cell_type": "code",
   "execution_count": 13,
   "id": "f981bab2",
   "metadata": {},
   "outputs": [
    {
     "data": {
      "text/plain": [
       "array([-2.13774371, -1.11977052, -0.91617588, -0.71258124, -0.5089866 ,\n",
       "       -0.30539196, -0.10179732, -0.10179732, -0.10179732,  0.10179732,\n",
       "        0.30539196,  0.5089866 ,  0.71258124,  0.91617588,  1.11977052,\n",
       "        2.34133835])"
      ]
     },
     "execution_count": 13,
     "metadata": {},
     "output_type": "execute_result"
    }
   ],
   "source": [
    "from scipy.stats import zscore\n",
    "\n",
    "sample = np.array([50, 55, 56, 57, 58, 59, 60, 60, 60, 61, 62, 63, 64, 65, 66, 72])\n",
    "\n",
    "zscore(sample)"
   ]
  },
  {
   "cell_type": "code",
   "execution_count": 14,
   "id": "e3a2da23",
   "metadata": {},
   "outputs": [
    {
     "data": {
      "image/png": "[encoded data removed]",
      "text/plain": [
       "<Figure size 360x360 with 1 Axes>"
      ]
     },
     "metadata": {
      "needs_background": "light"
     },
     "output_type": "display_data"
    }
   ],
   "source": [
    "import seaborn as sns\n",
    "\n",
    "ax = sns.displot(zscore(sample), kde = False)"
   ]
  },
  {
   "cell_type": "code",
   "execution_count": null,
   "id": "cbd4dc4b",
   "metadata": {},
   "outputs": [],
   "source": []
  },
  {
   "cell_type": "markdown",
   "id": "a64c50b2",
   "metadata": {},
   "source": [
    "## Стандартная ошибка среднего (SE)\n",
    "показывает, насколько выборочное среднее отличается от среднего генеральной совокупности. SE при увеличении размера выборки будет стремиться к нулю."
   ]
  },
  {
   "cell_type": "code",
   "execution_count": null,
   "id": "4d23cfc5",
   "metadata": {},
   "outputs": [],
   "source": [
    "# import pandas as pd\n",
    "# df.A.sem()\n",
    "\n",
    "# from scipy import stats\n",
    "# stats.sem(df.A)"
   ]
  },
  {
   "cell_type": "code",
   "execution_count": null,
   "id": "5a1e93dc",
   "metadata": {},
   "outputs": [],
   "source": []
  },
  {
   "cell_type": "markdown",
   "id": "e359b588",
   "metadata": {},
   "source": [
    "## t-критерий Стьюдента для независимых выборок\n",
    "t-критерий Стьюдента используется для определения статистической значимости различий средних величин.\n",
    "Н0 - статзначимых различий нет.\n",
    "\n",
    "Если pvalue >= 0.05, НЕ можем отклонить нулевую гипотезу, т.е. значимых различий нет.\n",
    "\n",
    "Если pvalue < 0.05, можем отклонить нулевую гипотезу, т.е. группы значимо различаются."
   ]
  },
  {
   "cell_type": "code",
   "execution_count": 31,
   "id": "054c9a99",
   "metadata": {},
   "outputs": [
    {
     "data": {
      "text/plain": [
       "Ttest_indResult(statistic=-2.449489742783178, pvalue=0.07048399691021993)"
      ]
     },
     "execution_count": 31,
     "metadata": {},
     "output_type": "execute_result"
    }
   ],
   "source": [
    "# scipy по колонкам датафрейма \n",
    "\n",
    "import pandas as pd\n",
    "from scipy import stats\n",
    "\n",
    "data = pd.DataFrame({\n",
    "           'a': [3, 1, 2],\n",
    "           'b': [5, 3, 4]})\n",
    "\n",
    "stats.ttest_ind(data.a, data.b)"
   ]
  },
  {
   "cell_type": "code",
   "execution_count": 37,
   "id": "569f4452",
   "metadata": {},
   "outputs": [
    {
     "data": {
      "text/html": [
       "<div>\n",
       "<style scoped>\n",
       "    .dataframe tbody tr th:only-of-type {\n",
       "        vertical-align: middle;\n",
       "    }\n",
       "\n",
       "    .dataframe tbody tr th {\n",
       "        vertical-align: top;\n",
       "    }\n",
       "\n",
       "    .dataframe thead th {\n",
       "        text-align: right;\n",
       "    }\n",
       "</style>\n",
       "<table border=\"1\" class=\"dataframe\">\n",
       "  <thead>\n",
       "    <tr style=\"text-align: right;\">\n",
       "      <th></th>\n",
       "      <th>T</th>\n",
       "      <th>dof</th>\n",
       "      <th>alternative</th>\n",
       "      <th>p-val</th>\n",
       "      <th>CI95%</th>\n",
       "      <th>cohen-d</th>\n",
       "      <th>BF10</th>\n",
       "      <th>power</th>\n",
       "    </tr>\n",
       "  </thead>\n",
       "  <tbody>\n",
       "    <tr>\n",
       "      <th>T-test</th>\n",
       "      <td>-2.44949</td>\n",
       "      <td>4</td>\n",
       "      <td>two-sided</td>\n",
       "      <td>0.070484</td>\n",
       "      <td>[-4.27, 0.27]</td>\n",
       "      <td>2.0</td>\n",
       "      <td>1.654</td>\n",
       "      <td>0.462641</td>\n",
       "    </tr>\n",
       "  </tbody>\n",
       "</table>\n",
       "</div>"
      ],
      "text/plain": [
       "              T  dof alternative     p-val          CI95%  cohen-d   BF10  \\\n",
       "T-test -2.44949    4   two-sided  0.070484  [-4.27, 0.27]      2.0  1.654   \n",
       "\n",
       "           power  \n",
       "T-test  0.462641  "
      ]
     },
     "execution_count": 37,
     "metadata": {},
     "output_type": "execute_result"
    }
   ],
   "source": [
    "# пингвин (нужно переменным присвоить колонки)\n",
    "\n",
    "import pingouin as pg\n",
    "\n",
    "data = pd.DataFrame({\n",
    "           'a': [3, 1, 2],\n",
    "           'b': [5, 3, 4]})\n",
    "\n",
    "aa = data.a\n",
    "bb = data.b\n",
    "\n",
    "pg.ttest(aa, bb)"
   ]
  },
  {
   "cell_type": "code",
   "execution_count": 16,
   "id": "2c292145",
   "metadata": {},
   "outputs": [
    {
     "name": "stdout",
     "output_type": "stream",
     "text": [
      "t_value = 1.414213562373095\n",
      "p = 0.08023418166343646\n",
      "p >= 0.05, НЕ можем отклонить нулевую гипотезу\n"
     ]
    }
   ],
   "source": [
    "# по формулам если известны меры центральной тенденции и меры изменчивости\n",
    "\n",
    "from scipy.stats import t\n",
    "from numpy import sqrt\n",
    "\n",
    "mean_1 = 45\n",
    "mean_2 = 44\n",
    "sd_1 = 3\n",
    "sd_2= 4\n",
    "n1= 50\n",
    "n2 = 50\n",
    "\n",
    "se = sqrt((sd_1 ** 2)/n1 + (sd_2 ** 2)/n2)\n",
    "t_value = (mean_1 - mean_2)/se\n",
    "print(f't_value = {t_value}')\n",
    "\n",
    "p = t.sf(t_value, n1+n2-2)\n",
    "print(f'p = {p}')\n",
    "\n",
    "if p >= 0.05:\n",
    "    print('p >= 0.05, НЕ можем отклонить нулевую гипотезу')\n",
    "else:\n",
    "    print('p < 0.05, можем отклонить нулевую гипотезу')"
   ]
  },
  {
   "cell_type": "code",
   "execution_count": null,
   "id": "56d7cbe1",
   "metadata": {},
   "outputs": [],
   "source": []
  },
  {
   "cell_type": "markdown",
   "id": "982536b0",
   "metadata": {},
   "source": [
    "## Однофакторный дисперсионный анализ (ANOVA)\n",
    "анализ для двух или нескольких независимых групп, когда все группы объединены по одному признаку. В ходе анализа проверяется нулевая гипотеза о равенстве средних."
   ]
  },
  {
   "cell_type": "markdown",
   "id": "58cb98f7",
   "metadata": {},
   "source": [
    "#### 1.Проверяем, являются ли дисперсии внутри групп примерно одинаковыми (гомогенными) с помощью теста Левена (H0 - дисперсии гомогенны)."
   ]
  },
  {
   "cell_type": "code",
   "execution_count": 96,
   "id": "65dc589d",
   "metadata": {},
   "outputs": [
    {
     "data": {
      "text/plain": [
       "LeveneResult(statistic=0.0, pvalue=1.0)"
      ]
     },
     "execution_count": 96,
     "metadata": {},
     "output_type": "execute_result"
    }
   ],
   "source": [
    "import pandas as pd\n",
    "import scipy.stats as stats\n",
    "\n",
    "data = pd.DataFrame({\n",
    "           'a': [3, 1, 2],\n",
    "           'b': [5, 3, 4],\n",
    "           'c': [7, 6, 5]})\n",
    "aa = data.a\n",
    "bb = data.b\n",
    "cc = data.c\n",
    "\n",
    "stats.levene(aa, bb, cc)\n",
    "\n",
    "# pvalue >= 0.05 - дисперсии гомогенны\n",
    "# pvalue < 0.05 - дисперсии разные"
   ]
  },
  {
   "cell_type": "markdown",
   "id": "006cb48d",
   "metadata": {},
   "source": [
    "если дисперсии разные, можно сделать дисперсионный анализ Уэлча (см. п.5)"
   ]
  },
  {
   "cell_type": "markdown",
   "id": "25da6f52",
   "metadata": {},
   "source": [
    "#### 2. Проверяем нормальность распределения (Шапиро-Уилка).\n",
    "#### 3. Проводим сам тест (дисперсионный анализ)."
   ]
  },
  {
   "cell_type": "code",
   "execution_count": 97,
   "id": "d4337bab",
   "metadata": {},
   "outputs": [
    {
     "data": {
      "text/plain": [
       "F_onewayResult(statistic=12.0, pvalue=0.008000000000000002)"
      ]
     },
     "execution_count": 97,
     "metadata": {},
     "output_type": "execute_result"
    }
   ],
   "source": [
    "from scipy import stats\n",
    "\n",
    "stats.f_oneway(aa, bb, cc)\n",
    "\n",
    "# pvalue >= 0.05 - значимых различий между группами нет\n",
    "# pvalue < 0.05 - значимые различия между группами есть"
   ]
  },
  {
   "cell_type": "code",
   "execution_count": 98,
   "id": "1c6fa658",
   "metadata": {},
   "outputs": [],
   "source": [
    "# пингвин\n",
    "# для него нужно преобразовать датафрейм data к формату двух колонок\n",
    "\n",
    "data1 = pd.DataFrame({'c1':np.repeat(data.columns,len(data)),\n",
    "                  'c2':data.to_numpy().transpose().flatten()})"
   ]
  },
  {
   "cell_type": "code",
   "execution_count": 100,
   "id": "8c76bb7b",
   "metadata": {},
   "outputs": [
    {
     "data": {
      "text/html": [
       "<div>\n",
       "<style scoped>\n",
       "    .dataframe tbody tr th:only-of-type {\n",
       "        vertical-align: middle;\n",
       "    }\n",
       "\n",
       "    .dataframe tbody tr th {\n",
       "        vertical-align: top;\n",
       "    }\n",
       "\n",
       "    .dataframe thead th {\n",
       "        text-align: right;\n",
       "    }\n",
       "</style>\n",
       "<table border=\"1\" class=\"dataframe\">\n",
       "  <thead>\n",
       "    <tr style=\"text-align: right;\">\n",
       "      <th></th>\n",
       "      <th>c1</th>\n",
       "      <th>c2</th>\n",
       "    </tr>\n",
       "  </thead>\n",
       "  <tbody>\n",
       "    <tr>\n",
       "      <th>0</th>\n",
       "      <td>a</td>\n",
       "      <td>3</td>\n",
       "    </tr>\n",
       "    <tr>\n",
       "      <th>1</th>\n",
       "      <td>a</td>\n",
       "      <td>1</td>\n",
       "    </tr>\n",
       "    <tr>\n",
       "      <th>2</th>\n",
       "      <td>a</td>\n",
       "      <td>2</td>\n",
       "    </tr>\n",
       "    <tr>\n",
       "      <th>3</th>\n",
       "      <td>b</td>\n",
       "      <td>5</td>\n",
       "    </tr>\n",
       "    <tr>\n",
       "      <th>4</th>\n",
       "      <td>b</td>\n",
       "      <td>3</td>\n",
       "    </tr>\n",
       "    <tr>\n",
       "      <th>5</th>\n",
       "      <td>b</td>\n",
       "      <td>4</td>\n",
       "    </tr>\n",
       "    <tr>\n",
       "      <th>6</th>\n",
       "      <td>c</td>\n",
       "      <td>7</td>\n",
       "    </tr>\n",
       "    <tr>\n",
       "      <th>7</th>\n",
       "      <td>c</td>\n",
       "      <td>6</td>\n",
       "    </tr>\n",
       "    <tr>\n",
       "      <th>8</th>\n",
       "      <td>c</td>\n",
       "      <td>5</td>\n",
       "    </tr>\n",
       "  </tbody>\n",
       "</table>\n",
       "</div>"
      ],
      "text/plain": [
       "  c1  c2\n",
       "0  a   3\n",
       "1  a   1\n",
       "2  a   2\n",
       "3  b   5\n",
       "4  b   3\n",
       "5  b   4\n",
       "6  c   7\n",
       "7  c   6\n",
       "8  c   5"
      ]
     },
     "execution_count": 100,
     "metadata": {},
     "output_type": "execute_result"
    }
   ],
   "source": [
    "data1"
   ]
  },
  {
   "cell_type": "code",
   "execution_count": 99,
   "id": "8850d6f6",
   "metadata": {},
   "outputs": [
    {
     "data": {
      "text/html": [
       "<div>\n",
       "<style scoped>\n",
       "    .dataframe tbody tr th:only-of-type {\n",
       "        vertical-align: middle;\n",
       "    }\n",
       "\n",
       "    .dataframe tbody tr th {\n",
       "        vertical-align: top;\n",
       "    }\n",
       "\n",
       "    .dataframe thead th {\n",
       "        text-align: right;\n",
       "    }\n",
       "</style>\n",
       "<table border=\"1\" class=\"dataframe\">\n",
       "  <thead>\n",
       "    <tr style=\"text-align: right;\">\n",
       "      <th></th>\n",
       "      <th>Source</th>\n",
       "      <th>ddof1</th>\n",
       "      <th>ddof2</th>\n",
       "      <th>F</th>\n",
       "      <th>p-unc</th>\n",
       "      <th>np2</th>\n",
       "    </tr>\n",
       "  </thead>\n",
       "  <tbody>\n",
       "    <tr>\n",
       "      <th>0</th>\n",
       "      <td>c1</td>\n",
       "      <td>2</td>\n",
       "      <td>6</td>\n",
       "      <td>12.0</td>\n",
       "      <td>0.008</td>\n",
       "      <td>0.8</td>\n",
       "    </tr>\n",
       "  </tbody>\n",
       "</table>\n",
       "</div>"
      ],
      "text/plain": [
       "  Source  ddof1  ddof2     F  p-unc  np2\n",
       "0     c1      2      6  12.0  0.008  0.8"
      ]
     },
     "execution_count": 99,
     "metadata": {},
     "output_type": "execute_result"
    }
   ],
   "source": [
    "import pingouin as pg\n",
    "\n",
    "pg.anova(data = data1, dv = 'c2', between = 'c1')"
   ]
  },
  {
   "cell_type": "code",
   "execution_count": 53,
   "id": "13d318b9",
   "metadata": {},
   "outputs": [],
   "source": [
    "# здесть F - F-values (то же, что statistic в stats); p-unc - pvalue"
   ]
  },
  {
   "cell_type": "markdown",
   "id": "0010d934",
   "metadata": {},
   "source": [
    "#### 4. Определим, между какими группами есть статистически значимые различия с помощью критерия Тьюки"
   ]
  },
  {
   "cell_type": "code",
   "execution_count": 104,
   "id": "9bd84175",
   "metadata": {},
   "outputs": [],
   "source": [
    "# также работаем с преобразованным data1"
   ]
  },
  {
   "cell_type": "code",
   "execution_count": 105,
   "id": "f8bba106",
   "metadata": {},
   "outputs": [
    {
     "data": {
      "text/html": [
       "<table class=\"simpletable\">\n",
       "<caption>Multiple Comparison of Means - Tukey HSD, FWER=0.05</caption>\n",
       "<tr>\n",
       "  <th>group1</th> <th>group2</th> <th>meandiff</th>  <th>p-adj</th>  <th>lower</th>   <th>upper</th> <th>reject</th>\n",
       "</tr>\n",
       "<tr>\n",
       "     <td>a</td>      <td>b</td>      <td>2.0</td>   <td>0.1089</td> <td>-0.5052</td> <td>4.5052</td>  <td>False</td>\n",
       "</tr>\n",
       "<tr>\n",
       "     <td>a</td>      <td>c</td>      <td>4.0</td>   <td>0.0065</td> <td>1.4948</td>  <td>6.5052</td>  <td>True</td> \n",
       "</tr>\n",
       "<tr>\n",
       "     <td>b</td>      <td>c</td>      <td>2.0</td>   <td>0.1089</td> <td>-0.5052</td> <td>4.5052</td>  <td>False</td>\n",
       "</tr>\n",
       "</table>"
      ],
      "text/plain": [
       "<class 'statsmodels.iolib.table.SimpleTable'>"
      ]
     },
     "execution_count": 105,
     "metadata": {},
     "output_type": "execute_result"
    }
   ],
   "source": [
    "# с помощью statsmodels\n",
    "\n",
    "from statsmodels.stats.multicomp import pairwise_tukeyhsd\n",
    "\n",
    "pairwise_tukeyhsd(data1.c2, data1.c1).summary()\n",
    "\n",
    "# смотрим на reject - если true - H0 отвергается (т.е. между группам статзначимые различия есть)"
   ]
  },
  {
   "cell_type": "code",
   "execution_count": 106,
   "id": "56945293",
   "metadata": {},
   "outputs": [
    {
     "data": {
      "text/html": [
       "<div>\n",
       "<style scoped>\n",
       "    .dataframe tbody tr th:only-of-type {\n",
       "        vertical-align: middle;\n",
       "    }\n",
       "\n",
       "    .dataframe tbody tr th {\n",
       "        vertical-align: top;\n",
       "    }\n",
       "\n",
       "    .dataframe thead th {\n",
       "        text-align: right;\n",
       "    }\n",
       "</style>\n",
       "<table border=\"1\" class=\"dataframe\">\n",
       "  <thead>\n",
       "    <tr style=\"text-align: right;\">\n",
       "      <th></th>\n",
       "      <th>A</th>\n",
       "      <th>B</th>\n",
       "      <th>mean(A)</th>\n",
       "      <th>mean(B)</th>\n",
       "      <th>diff</th>\n",
       "      <th>se</th>\n",
       "      <th>T</th>\n",
       "      <th>p-tukey</th>\n",
       "      <th>hedges</th>\n",
       "    </tr>\n",
       "  </thead>\n",
       "  <tbody>\n",
       "    <tr>\n",
       "      <th>0</th>\n",
       "      <td>a</td>\n",
       "      <td>b</td>\n",
       "      <td>2.0</td>\n",
       "      <td>4.0</td>\n",
       "      <td>-2.0</td>\n",
       "      <td>0.816497</td>\n",
       "      <td>-2.449490</td>\n",
       "      <td>0.108867</td>\n",
       "      <td>-1.6</td>\n",
       "    </tr>\n",
       "    <tr>\n",
       "      <th>1</th>\n",
       "      <td>a</td>\n",
       "      <td>c</td>\n",
       "      <td>2.0</td>\n",
       "      <td>6.0</td>\n",
       "      <td>-4.0</td>\n",
       "      <td>0.816497</td>\n",
       "      <td>-4.898979</td>\n",
       "      <td>0.006494</td>\n",
       "      <td>-3.2</td>\n",
       "    </tr>\n",
       "    <tr>\n",
       "      <th>2</th>\n",
       "      <td>b</td>\n",
       "      <td>c</td>\n",
       "      <td>4.0</td>\n",
       "      <td>6.0</td>\n",
       "      <td>-2.0</td>\n",
       "      <td>0.816497</td>\n",
       "      <td>-2.449490</td>\n",
       "      <td>0.108867</td>\n",
       "      <td>-1.6</td>\n",
       "    </tr>\n",
       "  </tbody>\n",
       "</table>\n",
       "</div>"
      ],
      "text/plain": [
       "   A  B  mean(A)  mean(B)  diff        se         T   p-tukey  hedges\n",
       "0  a  b      2.0      4.0  -2.0  0.816497 -2.449490  0.108867    -1.6\n",
       "1  a  c      2.0      6.0  -4.0  0.816497 -4.898979  0.006494    -3.2\n",
       "2  b  c      4.0      6.0  -2.0  0.816497 -2.449490  0.108867    -1.6"
      ]
     },
     "execution_count": 106,
     "metadata": {},
     "output_type": "execute_result"
    }
   ],
   "source": [
    "# пингвин\n",
    "\n",
    "import pingouin as pg\n",
    "\n",
    "pg.pairwise_tukey(data = data1, dv = 'c2', between = 'c1')"
   ]
  },
  {
   "cell_type": "code",
   "execution_count": 107,
   "id": "6a5c0848",
   "metadata": {},
   "outputs": [
    {
     "data": {
      "text/plain": [
       "<AxesSubplot:>"
      ]
     },
     "execution_count": 107,
     "metadata": {},
     "output_type": "execute_result"
    },
    {
     "data": {
      "image/png": "[encoded data removed]",
      "text/plain": [
       "<Figure size 432x288 with 1 Axes>"
      ]
     },
     "metadata": {
      "needs_background": "light"
     },
     "output_type": "display_data"
    }
   ],
   "source": [
    "# ну и можно посмотреть на взаимное расположение боксплотов\n",
    "\n",
    "data = pd.DataFrame({\n",
    "           'a': [3, 1, 2],\n",
    "           'b': [5, 3, 4],\n",
    "           'c': [7, 6, 5]})\n",
    "data.boxplot()"
   ]
  },
  {
   "cell_type": "markdown",
   "id": "e1501d07",
   "metadata": {},
   "source": [
    "#### 5. Дисперсионный анализ Уэлча"
   ]
  },
  {
   "cell_type": "code",
   "execution_count": 71,
   "id": "9f2af344",
   "metadata": {},
   "outputs": [],
   "source": [
    "# import pingouin as pg\n",
    "# pg.welch_anova(data=данные, dv=\"зависимая_переменная\", between=\"независимая_переменная\")"
   ]
  },
  {
   "cell_type": "code",
   "execution_count": null,
   "id": "70ae2195",
   "metadata": {},
   "outputs": [],
   "source": []
  },
  {
   "cell_type": "code",
   "execution_count": 62,
   "id": "ff805c21",
   "metadata": {},
   "outputs": [
    {
     "name": "stdout",
     "output_type": "stream",
     "text": [
      "Нулевая гипотеза: a=b=c\n",
      "Альтернативная гипотеза: !(a=b=c)\n",
      "p = 0.008000000000000002\n",
      "отклоняем нулевую гипотезу\n"
     ]
    }
   ],
   "source": [
    "# дисперсионный анализ по формулам\n",
    "\n",
    "from scipy import stats\n",
    "import pandas as pd\n",
    "\n",
    "data = pd.DataFrame({\n",
    "           'a': [3, 1, 2],\n",
    "           'b': [5, 3, 4],\n",
    "           'c': [7, 6, 5]})\n",
    "print('Нулевая гипотеза:', '='.join(data))\n",
    "print('Альтернативная гипотеза:', f'!({\"=\".join(data)})')\n",
    "# общая средняя\n",
    "grand_mean = data.values.flatten().mean()\n",
    "# отклонение групповых средний от общей средней\n",
    "ssb = sum(data[group].size * (group_mean - grand_mean)**2  for group, group_mean in data.mean().items())\n",
    "# отклонения значений в внутри группы от средней группы\n",
    "ssw = sum(sum((x - group_mean)**2 for x in data[group]) for group, group_mean in data.mean().items())\n",
    "\n",
    "groups = data.shape[1]\n",
    "dfb = groups - 1\n",
    "dfw = data.size - groups\n",
    "# межгрупповой средний квадрат  \n",
    "mssb = ssb/dfb\n",
    "# внутригрупповой средний квадрат\n",
    "mssw = ssw/dfw\n",
    "\n",
    "f_value = mssb/mssw\n",
    "\n",
    "p = stats.f.sf(f_value, dfb, dfw)\n",
    "print(f'p = {p}')\n",
    "if p < 0.05:\n",
    "    print('отклоняем нулевую гипотезу')\n",
    "else:\n",
    "    print('НЕ отклоняем нулевую гипотезу')"
   ]
  },
  {
   "cell_type": "markdown",
   "id": "f38afa45",
   "metadata": {},
   "source": [
    "## Многофакторный дисперсионный анализ\n",
    "позволяет проверить влияние нескольких факторов на зависимую переменную."
   ]
  },
  {
   "cell_type": "code",
   "execution_count": null,
   "id": "029231ce",
   "metadata": {},
   "outputs": [],
   "source": []
  },
  {
   "cell_type": "code",
   "execution_count": null,
   "id": "93e8f82a",
   "metadata": {},
   "outputs": [],
   "source": []
  },
  {
   "cell_type": "code",
   "execution_count": null,
   "id": "d1e5f2f6",
   "metadata": {},
   "outputs": [],
   "source": []
  },
  {
   "cell_type": "code",
   "execution_count": null,
   "id": "b103b3ba",
   "metadata": {},
   "outputs": [],
   "source": []
  },
  {
   "cell_type": "code",
   "execution_count": null,
   "id": "11c03395",
   "metadata": {},
   "outputs": [],
   "source": []
  },
  {
   "cell_type": "markdown",
   "id": "f568c880",
   "metadata": {},
   "source": [
    "### Коэффициент корреляции Пирсона"
   ]
  },
  {
   "cell_type": "markdown",
   "id": "5cace1a7",
   "metadata": {},
   "source": [
    "метод параметрической статистики, позволяющий определить наличие или отсутствие линейной связи между двумя количественными показателями, а также оценить ее тесноту и статистическую значимость. Другими словами, критерий корреляции Пирсона позволяет определить, изменяется ли (возрастает или уменьшается) один показатель в ответ на изменения другого? В статистических расчетах и выводах коэффициент корреляции обычно обозначается как rxy или Rxy."
   ]
  },
  {
   "cell_type": "markdown",
   "id": "d39ddff1",
   "metadata": {},
   "source": [
    "https://medstatistic.ru/methods/methods8.html"
   ]
  },
  {
   "cell_type": "code",
   "execution_count": null,
   "id": "1f85c0eb",
   "metadata": {},
   "outputs": [],
   "source": [
    "import pandas as pd\n",
    "from scipy import stats\n",
    "\n",
    "data = {'list 1':[4, 5, 2, 3, 1],'list 2':[2, 1, 4 ,3, 5]}\n",
    "\n",
    "df = pd.DataFrame(data, columns = ['list 1','list 2'])\n",
    "\n",
    "pearson_coef, p_value = stats.pearsonr(df[\"list 1\"], df[\"list 2\"]) #define the columns to perform calculations on\n",
    "print(\"Pearson Correlation Coefficient:\", pearson_coef)\n",
    "print(\"P-value:\", p_value)"
   ]
  },
  {
   "cell_type": "code",
   "execution_count": null,
   "id": "2872294b",
   "metadata": {},
   "outputs": [],
   "source": [
    "import numpy\n",
    "list1 = [4, 5, 2, 3, 1]\n",
    "list2 = [2, 1, 4 ,3, 5]\n",
    "numpy.corrcoef(list1, list2)[0, 1]"
   ]
  },
  {
   "cell_type": "code",
   "execution_count": null,
   "id": "a2d6c1a0",
   "metadata": {},
   "outputs": [],
   "source": [
    "from scipy.stats import linregress\n",
    "linregress(list1, list2)\n",
    "#also works with a two-row pandas.DataFrame: lineregress(two_row_df)"
   ]
  },
  {
   "cell_type": "code",
   "execution_count": null,
   "id": "83d2f7d5",
   "metadata": {},
   "outputs": [],
   "source": []
  }
 ],
 "metadata": {
  "kernelspec": {
   "display_name": "Python 3 (ipykernel)",
   "language": "python",
   "name": "python3"
  },
  "language_info": {
   "codemirror_mode": {
    "name": "ipython",
    "version": 3
   },
   "file_extension": ".py",
   "mimetype": "text/x-python",
   "name": "python",
   "nbconvert_exporter": "python",
   "pygments_lexer": "ipython3",
   "version": "3.9.12"
  }
 },
 "nbformat": 4,
 "nbformat_minor": 5
}
